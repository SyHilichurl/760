{
  "nbformat": 4,
  "nbformat_minor": 0,
  "metadata": {
    "colab": {
      "provenance": []
    },
    "kernelspec": {
      "name": "python3",
      "display_name": "Python 3"
    },
    "language_info": {
      "name": "python"
    }
  },
  "cells": [
    {
      "cell_type": "code",
      "source": [
        "import os\n",
        "import os\n",
        "import cv2\n",
        "import random\n",
        "import numpy as np\n",
        "from sklearn.model_selection import train_test_split\n",
        "from tensorflow.keras.utils import to_categorical\n",
        "import torch\n",
        "import torch.nn as nn\n",
        "from torchsummary import summary\n",
        "from torchvision import transforms\n",
        "import torch.optim as optim\n",
        "from torch.utils.data import Dataset, DataLoader\n",
        "from PIL import Image"
      ],
      "metadata": {
        "id": "subBCJCLBHaV"
      },
      "execution_count": null,
      "outputs": []
    },
    {
      "cell_type": "code",
      "source": [
        "import cv2\n",
        "import os\n",
        "import numpy as np\n",
        "\n",
        "def rotate_image(image, angle):\n",
        "    \"\"\"Rotate the image by a certain angle.\"\"\"\n",
        "    image_center = tuple(np.array(image.shape[1::-1]) / 2)\n",
        "    rot_mat = cv2.getRotationMatrix2D(image_center, angle, 1.0)\n",
        "    result = cv2.warpAffine(image, rot_mat, image.shape[1::-1], flags=cv2.INTER_LINEAR)\n",
        "    return result\n",
        "\n",
        "def augment_and_save_images_to_100(input_folder, output_folder, current_count, target_count=100):\n",
        "    \"\"\"Augment images by rotating to reach a target count, save them and the original images to the output folder.\"\"\"\n",
        "    if not os.path.exists(output_folder):\n",
        "        os.makedirs(output_folder)\n",
        "\n",
        "    files = [f for f in os.listdir(input_folder) if f.endswith(\".jpg\") or f.endswith(\".png\")]\n",
        "    num_original_images = len(files)\n",
        "    num_required_images = target_count - current_count\n",
        "\n",
        "    if num_required_images <= 0:\n",
        "        print(f\"No augmentation needed for {input_folder}.\")\n",
        "        return\n",
        "\n",
        "    rotations_per_image = (num_required_images + num_original_images - 1) // num_original_images  # Round up\n",
        "    rotation_angle = 360 / rotations_per_image\n",
        "\n",
        "    current_count = 0\n",
        "\n",
        "    for filename in files:\n",
        "        image_path = os.path.join(input_folder, filename)\n",
        "        image = cv2.imread(image_path)\n",
        "\n",
        "        # Save the original image to the augmented folder\n",
        "        original_output_path = os.path.join(output_folder, filename)\n",
        "        cv2.imwrite(original_output_path, image)\n",
        "        current_count += 1\n",
        "\n",
        "        for i in range(1, rotations_per_image):\n",
        "            if current_count >= target_count:\n",
        "                break\n",
        "            angle = i * rotation_angle\n",
        "            rotated_image = rotate_image(image, angle)\n",
        "            base_filename = os.path.splitext(filename)[0]\n",
        "            output_path = os.path.join(output_folder, f\"{base_filename}_rot_{int(angle)}.jpg\")\n",
        "            cv2.imwrite(output_path, rotated_image)\n",
        "            current_count += 1\n",
        "            if current_count >= target_count:\n",
        "                break\n",
        "\n",
        "# Define folders\n",
        "sad_folder = \"/content/drive/My Drive/cats facial expressions without aug/Sad\"\n",
        "happy_folder = \"/content/drive/My Drive/cats facial expressions without aug/happy\"\n",
        "angry_folder = \"/content/drive/My Drive/cats facial expressions without aug/Angry\"\n",
        "\n",
        "augmented_sad_folder = \"/content/drive/My Drive/cats facial expressions without aug/Sad_augmented\"\n",
        "augmented_happy_folder = \"/content/drive/My Drive/cats facial expressions without aug/Happy_augmented\"\n",
        "augmented_angry_folder = \"/content/drive/My Drive/cats facial expressions without aug/Angry_augmented\"\n",
        "\n",
        "# Original counts\n",
        "original_counts = {\n",
        "    'Sad': 14,\n",
        "    'Happy': 8,\n",
        "    'Angry': 46\n",
        "}\n",
        "\n",
        "# Augment each class to have about 100 unique images\n",
        "augment_and_save_images_to_100(sad_folder, augmented_sad_folder, original_counts['Sad'], target_count=100)\n",
        "augment_and_save_images_to_100(happy_folder, augmented_happy_folder, original_counts['Happy'], target_count=100)\n",
        "augment_and_save_images_to_100(angry_folder, augmented_angry_folder, original_counts['Angry'], target_count=100)\n",
        "\n",
        "print(\"Augmentation to reach about 100 unique images per class completed.\")\n"
      ],
      "metadata": {
        "id": "4TOOboQ5Abfc",
        "colab": {
          "base_uri": "https://localhost:8080/"
        },
        "outputId": "ec51f241-2db8-4805-84ea-808d3b2b4f44"
      },
      "execution_count": 54,
      "outputs": [
        {
          "output_type": "stream",
          "name": "stdout",
          "text": [
            "Augmentation to reach about 100 unique images per class completed.\n"
          ]
        }
      ]
    },
    {
      "cell_type": "code",
      "source": [
        "def count_images_in_folders(folders):\n",
        "    counts = {}\n",
        "    for folder in folders:\n",
        "        counts[folder] = len([name for name in os.listdir(folder) if os.path.isfile(os.path.join(folder, name))])\n",
        "    return counts\n",
        "\n",
        "\n",
        "folders = [\n",
        "    \"/content/drive/My Drive/cats facial expressions without aug/Sad\",\n",
        "    \"/content/drive/My Drive/cats facial expressions without aug/Angry\",\n",
        "    \"/content/drive/My Drive/cats facial expressions without aug/happy\",\n",
        "    \"/content/drive/My Drive/cats facial expressions without aug/Sad_augmented\",\n",
        "    \"/content/drive/My Drive/cats facial expressions without aug/Happy_augmented\",\n",
        "     \"/content/drive/My Drive/cats facial expressions without aug/Angry_augmented\"\n",
        "]\n",
        "\n",
        "# Count images in each folder\n",
        "image_counts = count_images_in_folders(folders)\n",
        "\n",
        "# Print the counts\n",
        "for folder, count in image_counts.items():\n",
        "    print(f\"{folder}: {count} images\")"
      ],
      "metadata": {
        "id": "O3aaxZhBAbKn",
        "colab": {
          "base_uri": "https://localhost:8080/"
        },
        "outputId": "1131c846-9c47-466b-9c96-9d11bdc95e19"
      },
      "execution_count": 55,
      "outputs": [
        {
          "output_type": "stream",
          "name": "stdout",
          "text": [
            "/content/drive/My Drive/cats facial expressions without aug/Sad: 14 images\n",
            "/content/drive/My Drive/cats facial expressions without aug/Angry: 46 images\n",
            "/content/drive/My Drive/cats facial expressions without aug/happy: 8 images\n",
            "/content/drive/My Drive/cats facial expressions without aug/Sad_augmented: 98 images\n",
            "/content/drive/My Drive/cats facial expressions without aug/Happy_augmented: 96 images\n",
            "/content/drive/My Drive/cats facial expressions without aug/Angry_augmented: 92 images\n"
          ]
        }
      ]
    },
    {
      "cell_type": "code",
      "source": [],
      "metadata": {
        "id": "vuLuGa7C2GKu"
      },
      "execution_count": 56,
      "outputs": []
    },
    {
      "cell_type": "code",
      "source": [],
      "metadata": {
        "id": "T5UqbjeH2GT4"
      },
      "execution_count": 57,
      "outputs": []
    },
    {
      "cell_type": "code",
      "source": [],
      "metadata": {
        "id": "3EAlcYgg2Mad"
      },
      "execution_count": null,
      "outputs": []
    },
    {
      "cell_type": "code",
      "source": [],
      "metadata": {
        "id": "QFeOWuHB2MjS"
      },
      "execution_count": null,
      "outputs": []
    }
  ]
}